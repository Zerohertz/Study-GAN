{
 "cells": [
  {
   "cell_type": "code",
   "execution_count": 1,
   "id": "c6ab9acf",
   "metadata": {},
   "outputs": [],
   "source": [
    "import torch\n",
    "import numpy as np\n",
    "\n",
    "sz = 600\n",
    "\n",
    "a = np.random.rand(sz, sz)\n",
    "b = np.random.rand(sz, sz)"
   ]
  },
  {
   "cell_type": "code",
   "execution_count": 3,
   "id": "9f18d14b",
   "metadata": {},
   "outputs": [
    {
     "name": "stdout",
     "output_type": "stream",
     "text": [
      "tensor(4.5000)\n",
      "<built-in method type of Tensor object at 0x7f99ab6bb130>\n",
      "cpu\n",
      "tensor(4.5000, device='mps:0')\n",
      "<built-in method type of Tensor object at 0x7f99ab3d54f0>\n",
      "mps:0\n"
     ]
    },
    {
     "name": "stderr",
     "output_type": "stream",
     "text": [
      "/Users/zerohertz/opt/anaconda3/envs/gan/lib/python3.9/site-packages/torch/_tensor_str.py:103: UserWarning: The operator 'aten::bitwise_and.Tensor_out' is not currently supported on the MPS backend and will fall back to run on the CPU. This may have performance implications. (Triggered internally at /Users/runner/work/_temp/anaconda/conda-bld/pytorch_1657955264348/work/aten/src/ATen/mps/MPSFallback.mm:11.)\n",
      "  nonzero_finite_vals = torch.masked_select(tensor_view, torch.isfinite(tensor_view) & tensor_view.ne(0))\n"
     ]
    }
   ],
   "source": [
    "device = torch.device(\"mps\")\n",
    "x1 = torch.tensor(4.5)\n",
    "print(x1)\n",
    "print(x1.type)\n",
    "print(x1.device)\n",
    "x2 = x1.to(device)\n",
    "print(x2)\n",
    "print(x2.type)\n",
    "print(x2.device)"
   ]
  },
  {
   "cell_type": "code",
   "execution_count": 4,
   "id": "78d7075c",
   "metadata": {},
   "outputs": [
    {
     "name": "stdout",
     "output_type": "stream",
     "text": [
      "tensor(20.2500)\n",
      "tensor(20.2500, device='mps:0')\n",
      "tensor(20.2500, device='mps:0')\n"
     ]
    }
   ],
   "source": [
    "x11 = x1*x1\n",
    "print(x11)\n",
    "x12 = x1*x2\n",
    "print(x12)\n",
    "x22 = x2*x2\n",
    "print(x22)"
   ]
  },
  {
   "cell_type": "code",
   "execution_count": 5,
   "id": "551caff3",
   "metadata": {},
   "outputs": [],
   "source": [
    "cpua = torch.Tensor(a)\n",
    "cpub = torch.Tensor(b)\n",
    "gpua = cpua.to(device)\n",
    "gpub = cpub.to(device)"
   ]
  },
  {
   "cell_type": "code",
   "execution_count": 2,
   "id": "20443c4d",
   "metadata": {},
   "outputs": [
    {
     "name": "stdout",
     "output_type": "stream",
     "text": [
      "8.26 ms ± 644 µs per loop (mean ± std. dev. of 7 runs, 10,000 loops each)\n"
     ]
    }
   ],
   "source": [
    "%%timeit -n 10000\n",
    "\n",
    "x = np.dot(a,b)"
   ]
  },
  {
   "cell_type": "code",
   "execution_count": 6,
   "id": "48f3685f",
   "metadata": {},
   "outputs": [
    {
     "name": "stdout",
     "output_type": "stream",
     "text": [
      "3.73 ms ± 88.2 µs per loop (mean ± std. dev. of 7 runs, 10,000 loops each)\n"
     ]
    }
   ],
   "source": [
    "%%timeit -n 10000\n",
    "\n",
    "torch.matmul(cpua,cpub)"
   ]
  },
  {
   "cell_type": "code",
   "execution_count": 7,
   "id": "ebb3e587",
   "metadata": {},
   "outputs": [
    {
     "name": "stdout",
     "output_type": "stream",
     "text": [
      "186 µs ± 1.42 µs per loop (mean ± std. dev. of 7 runs, 10,000 loops each)\n"
     ]
    }
   ],
   "source": [
    "%%timeit -n 10000\n",
    "\n",
    "torch.matmul(gpua,gpub)"
   ]
  }
 ],
 "metadata": {
  "kernelspec": {
   "display_name": "Python [conda env:gan] *",
   "language": "python",
   "name": "conda-env-gan-py"
  },
  "language_info": {
   "codemirror_mode": {
    "name": "ipython",
    "version": 3
   },
   "file_extension": ".py",
   "mimetype": "text/x-python",
   "name": "python",
   "nbconvert_exporter": "python",
   "pygments_lexer": "ipython3",
   "version": "3.9.12"
  }
 },
 "nbformat": 4,
 "nbformat_minor": 5
}
