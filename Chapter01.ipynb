{
 "cells": [
  {
   "cell_type": "code",
   "execution_count": 1,
   "id": "65faa856",
   "metadata": {},
   "outputs": [],
   "source": [
    "import torch"
   ]
  },
  {
   "cell_type": "code",
   "execution_count": 2,
   "id": "631fdf22",
   "metadata": {},
   "outputs": [
    {
     "name": "stdout",
     "output_type": "stream",
     "text": [
      "tensor(3.5000) tensor(5.5000)\n"
     ]
    }
   ],
   "source": [
    "x = torch.tensor(3.5)\n",
    "\n",
    "y = x + 2\n",
    "\n",
    "print(x,y)"
   ]
  },
  {
   "cell_type": "code",
   "execution_count": 3,
   "id": "061ae9bd",
   "metadata": {},
   "outputs": [
    {
     "name": "stdout",
     "output_type": "stream",
     "text": [
      "tensor(17., grad_fn=<AddBackward0>)\n"
     ]
    }
   ],
   "source": [
    "x = torch.tensor(4., requires_grad = True)\n",
    "\n",
    "y = pow(x, 2) + 1\n",
    "\n",
    "print(y)\n",
    "\n",
    "# y2 = (x-1) * (x-2) * (x-3)\n",
    "\n",
    "# print(y2)"
   ]
  },
  {
   "cell_type": "code",
   "execution_count": 4,
   "id": "a94ae2c3",
   "metadata": {},
   "outputs": [],
   "source": [
    "y.backward()\n",
    "# y2.backward()"
   ]
  },
  {
   "cell_type": "code",
   "execution_count": 5,
   "id": "742f010a",
   "metadata": {},
   "outputs": [
    {
     "name": "stdout",
     "output_type": "stream",
     "text": [
      "tensor(8.)\n"
     ]
    }
   ],
   "source": [
    "print(x.grad)"
   ]
  },
  {
   "cell_type": "code",
   "execution_count": 6,
   "id": "ca987e6a",
   "metadata": {},
   "outputs": [
    {
     "name": "stdout",
     "output_type": "stream",
     "text": [
      "tensor(24.)\n"
     ]
    }
   ],
   "source": [
    "x = torch.tensor(4., requires_grad = True)\n",
    "y = x*x\n",
    "z = 3*y + 1 # 3x^2 + 1\n",
    "\n",
    "z.backward()\n",
    "\n",
    "print(x.grad)"
   ]
  }
 ],
 "metadata": {
  "kernelspec": {
   "display_name": "Python [conda env:gan] *",
   "language": "python",
   "name": "conda-env-gan-py"
  },
  "language_info": {
   "codemirror_mode": {
    "name": "ipython",
    "version": 3
   },
   "file_extension": ".py",
   "mimetype": "text/x-python",
   "name": "python",
   "nbconvert_exporter": "python",
   "pygments_lexer": "ipython3",
   "version": "3.9.12"
  }
 },
 "nbformat": 4,
 "nbformat_minor": 5
}
